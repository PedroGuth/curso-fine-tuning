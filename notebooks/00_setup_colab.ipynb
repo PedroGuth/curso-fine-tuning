{
    "cells": [
     {
      "cell_type": "markdown",
      "metadata": {},
      "source": [
       "# 🚀 **Setup Inicial - Curso de Fine Tuning**\n",
       "\n",
       "## **Preparando o Terreno para Treinar IAs**\n",
       "\n",
       "---\n",
       "\n",
       "### **Tá, mas o que é este setup?**\n",
       "\n",
       "Imagine que você vai cozinhar um prato especial. Antes de começar, você precisa:\n",
       "- ✅ Ter todos os ingredientes\n",
       "- ✅ Preparar a cozinha\n",
       "- ✅ Verificar se o fogão funciona\n",
       "- ✅ Ter as ferramentas certas\n",
       "\n",
       "**Fine Tuning é a mesma coisa!** Precisamos preparar o \"ambiente de cozinha\" antes de começar a \"cozinhar\" nossos modelos.\n",
       "\n",
       "**Por que este setup é importante?**\n",
       "\n",
       "Fine Tuning é como treinar um atleta de alto nível. Você precisa de:\n",
       "- **GPU** (como uma academia de ponta)\n",
       "- **Bibliotecas certas** (como equipamentos de qualidade)\n",
       "- **Configurações adequadas** (como um plano de treino)\n",
       "\n",
       "---\n",
       "\n",
       "**🖼️ Sugestão de imagem**: Cozinheiro preparando ingredientes e ferramentas\n",
       "\n",
       "### **Setup Inicial - Preparando o Terreno**"
      ]
     },
     {
      "cell_type": "markdown",
      "metadata": {},
      "source": [
       "## **1. Verificando se estamos no Colab**\n",
       "\n",
       "Primeiro, vamos garantir que estamos no ambiente certo:"
      ]
     },
     {
      "cell_type": "code",
      "execution_count": null,
      "metadata": {},
      "outputs": [],
      "source": [
       "# Verificando se estamos no Google Colab\n",
       "try:\n",
       "    import google.colab\n",
       "    print(\"✅ Estamos no Google Colab!\")\n",
       "    IN_COLAB = True\n",
       "except ImportError:\n",
       "    print(\"⚠️  Não estamos no Google Colab. Algumas funcionalidades podem não funcionar.\")\n",
       "    IN_COLAB = False"
      ]
     },
     {
      "cell_type": "markdown",
      "metadata": {},
      "source": [
       "## **2. Instalando as Dependências**\n",
       "\n",
       "Agora vamos instalar todas as bibliotecas que precisamos:"
      ]
     },
     {
      "cell_type": "code",
      "execution_count": null,
      "metadata": {},
      "outputs": [],
      "source": [
       "# Instalando as dependências principais\n",
       "print(\"🔧 Instalando dependências...\")\n",
       "\n",
       "!pip install torch>=2.0.0 transformers>=4.30.0 datasets>=2.12.0\n",
       "!pip install accelerate>=0.20.0 peft>=0.4.0 bitsandbytes>=0.41.0 trl>=0.7.0\n",
       "!pip install langchain>=0.1.0 langchain-community>=0.0.10 langchain-core>=0.1.0\n",
       "!pip install huggingface_hub>=0.19.0 python-dotenv>=1.0.0\n",
       "!pip install numpy>=1.24.0 pandas>=2.0.0 matplotlib>=3.7.0 seaborn>=0.12.0\n",
       "!pip install scikit-learn>=1.3.0 gradio>=3.40.0 wandb>=0.15.0\n",
       "\n",
       "print(\"✅ Dependências instaladas com sucesso!\")"
      ]
     },
     {
      "cell_type": "markdown",
      "metadata": {},
      "source": [
       "## **3. Configurando GPU (se disponível)**\n",
       "\n",
       "Fine Tuning é como correr uma maratona - você precisa de energia (GPU) para não ficar exausto:"
      ]
     },
     {
      "cell_type": "code",
      "execution_count": null,
      "metadata": {},
      "outputs": [],
      "source": [
       "# Verificando e configurando GPU\n",
       "import torch\n",
       "\n",
       "print(\"🔍 Verificando disponibilidade de GPU...\")\n",
       "\n",
       "if torch.cuda.is_available():\n",
       "    print(f\"✅ GPU disponível: {torch.cuda.get_device_name(0)}\")\n",
       "    print(f\"   Memória total: {torch.cuda.get_device_properties(0).total_memory / 1e9:.1f} GB\")\n",
       "    print(f\"   Memória livre: {torch.cuda.memory_allocated(0) / 1e9:.1f} GB\")\n",
       "    DEVICE = \"cuda\"\n",
       "else:\n",
       "    print(\"⚠️  GPU não disponível. Vamos usar CPU (será mais lento, mas funciona!)\")\n",
       "    DEVICE = \"cpu\"\n",
       "\n",
       "print(f\"🎯 Dispositivo selecionado: {DEVICE}\")"
      ]
     },
     {
      "cell_type": "markdown",
      "metadata": {},
      "source": [
       "## **4. Configurando Hugging Face**\n",
       "\n",
       "Vamos configurar o acesso ao Hugging Face (nossa \"biblioteca de modelos\"):"
      ]
     },
     {
      "cell_type": "code",
      "execution_count": null,
      "metadata": {},
      "outputs": [],
      "source": [
       "# Configurando Hugging Face\n",
       "import os\n",
       "from dotenv import load_dotenv\n",
       "\n",
       "# Carregando variáveis de ambiente\n",
       "load_dotenv()\n",
       "\n",
       "# Verificando token do Hugging Face\n",
       "hf_token = os.getenv(\"HUGGINGFACEHUB_API_TOKEN\")\n",
       "\n",
       "if hf_token:\n",
       "    print(\"✅ Token do Hugging Face configurado!\")\n",
       "else:\n",
       "    print(\"⚠️  Token do Hugging Face não encontrado.\")\n",
       "    print(\"💡 Para obter um token gratuito:\")\n",
       "    print(\"   1. Acesse: https://huggingface.co/settings/tokens\")\n",
       "    print(\"   2. Crie um novo token\")\n",
       "    print(\"   3. Adicione como variável de ambiente HUGGINGFACEHUB_API_TOKEN\")\n",
       "    print(\"\\n🔧 Por enquanto, vamos continuar sem o token (algumas funcionalidades serão limitadas)\")"
      ]
     },
     {
      "cell_type": "markdown",
      "metadata": {},
      "source": [
       "## **5. Testando as Importações**\n",
       "\n",
       "Vamos verificar se tudo está funcionando:"
      ]
     },
     {
      "cell_type": "code",
      "execution_count": null,
      "metadata": {},
      "outputs": [],
      "source": [
       "# Testando importações principais\n",
       "print(\"🧪 Testando importações...\")\n",
       "\n",
       "try:\n",
       "    import transformers\n",
       "    print(f\"✅ Transformers: {transformers.__version__}\")\n",
       "except ImportError as e:\n",
       "    print(f\"❌ Erro ao importar transformers: {e}\")\n",
       "\n",
       "try:\n",
       "    import torch\n",
       "    print(f\"✅ PyTorch: {torch.__version__}\")\n",
       "except ImportError as e:\n",
       "    print(f\"❌ Erro ao importar torch: {e}\")\n",
       "\n",
       "try:\n",
       "    import datasets\n",
       "    print(f\"✅ Datasets: {datasets.__version__}\")\n",
       "except ImportError as e:\n",
       "    print(f\"❌ Erro ao importar datasets: {e}\")\n",
       "\n",
       "try:\n",
       "    import peft\n",
       "    print(f\"✅ PEFT: {peft.__version__}\")\n",
       "except ImportError as e:\n",
       "    print(f\"❌ Erro ao importar PEFT: {e}\")\n",
       "\n",
       "try:\n",
       "    import accelerate\n",
       "    print(f\"✅ Accelerate: {accelerate.__version__}\")\n",
       "except ImportError as e:\n",
       "    print(f\"❌ Erro ao importar accelerate: {e}\")\n",
       "\n",
       "print(\"\\n🎉 Setup concluído com sucesso!\")"
      ]
     },
     {
      "cell_type": "markdown",
      "metadata": {},
      "source": [
       "## **6. Função Helper para LLMs**\n",
       "\n",
       "Vamos criar uma função que nos ajuda a escolher o melhor LLM disponível:"
      ]
     },
     {
      "cell_type": "code",
      "execution_count": null,
      "metadata": {},
      "outputs": [],
      "source": [
       "def get_llm_colab():\n",
       "    \"\"\"\n",
       "    Retorna o melhor LLM disponível no Colab\n",
       "    \n",
       "    É como escolher o melhor funcionário disponível para a tarefa!\n",
       "    \"\"\"\n",
       "    \n",
       "    # Tentativa 1: OpenAI (se tiver API key)\n",
       "    try:\n",
       "        from langchain_openai import ChatOpenAI\n",
       "        api_key = os.getenv(\"OPENAI_API_KEY\")\n",
       "        if api_key:\n",
       "            print(\"🤖 Usando OpenAI GPT-3.5-turbo\")\n",
       "            return ChatOpenAI(\n",
       "                model=\"gpt-3.5-turbo\",\n",
       "                temperature=0.7,\n",
       "                api_key=api_key\n",
       "            )\n",
       "    except Exception as e:\n",
       "        print(f\"⚠️  OpenAI não disponível: {e}\")\n",
       "    \n",
       "    # Tentativa 2: Hugging Face (gratuito)\n",
       "    try:\n",
       "        from langchain_community.llms import HuggingFaceHub\n",
       "        token = os.getenv(\"HUGGINGFACEHUB_API_TOKEN\")\n",
       "        if token:\n",
       "            print(\"🤖 Usando Hugging Face (gratuito)\")\n",
       "            return HuggingFaceHub(\n",
       "                repo_id=\"google/flan-t5-base\",\n",
       "                model_kwargs={\"temperature\": 0.7, \"max_length\": 512}\n",
       "            )\n",
       "    except Exception as e:\n",
       "        print(f\"⚠️  Hugging Face não disponível: {e}\")\n",
       "    \n",
       "    # Fallback: Modelo local simples\n",
       "    print(\"🤖 Usando modelo local simples\")\n",
       "    return None\n",
       "\n",
       "# Testando a função\n",
       "print(\"🧪 Testando função de LLM...\")\n",
       "llm = get_llm_colab()\n",
       "if llm:\n",
       "    print(\"✅ LLM configurado com sucesso!\")\n",
       "else:\n",
       "    print(\"⚠️  LLM não configurado. Vamos usar modelos locais no curso.\")"
      ]
     },
     {
      "cell_type": "markdown",
      "metadata": {},
      "source": [
       "## **7. Criando Estrutura de Pastas**\n",
       "\n",
       "Vamos organizar nosso \"espaço de trabalho\":"
      ]
     },
     {
      "cell_type": "code",
      "execution_count": null,
      "metadata": {},
      "outputs": [],
      "source": [
       "# Criando estrutura de pastas\n",
       "import os\n",
       "\n",
       "pastas = [\"datasets\", \"models\", \"checkpoints\", \"logs\"]\n",
       "\n",
       "for pasta in pastas:\n",
       "    if not os.path.exists(pasta):\n",
       "        os.makedirs(pasta)\n",
       "        print(f\"📁 Criada pasta: {pasta}\")\n",
       "    else:\n",
       "        print(f\"📁 Pasta já existe: {pasta}\")\n",
       "\n",
       "print(\"\\n🏗️  Estrutura de pastas criada!\")"
      ]
     },
     {
      "cell_type": "markdown",
      "metadata": {},
      "source": [
       "## **8. Teste Final - Hello World do Fine Tuning**\n",
       "\n",
       "Vamos fazer um teste rápido para garantir que tudo está funcionando:"
      ]
     },
     {
      "cell_type": "code",
      "execution_count": null,
      "metadata": {},
      "outputs": [],
      "source": [
       "# Teste final - Carregando um modelo pequeno\n",
       "print(\"🧪 Teste final - Carregando modelo...\")\n",
       "\n",
       "try:\n",
       "    from transformers import AutoTokenizer, AutoModelForCausalLM\n",
       "    \n",
       "    # Carregando um modelo pequeno para teste\n",
       "    model_name = \"microsoft/DialoGPT-small\"\n",
       "    \n",
       "    print(f\"📥 Baixando modelo: {model_name}\")\n",
       "    tokenizer = AutoTokenizer.from_pretrained(model_name)\n",
       "    model = AutoModelForCausalLM.from_pretrained(model_name)\n",
       "    \n",
       "    print(\"✅ Modelo carregado com sucesso!\")\n",
       "    print(f\"   Parâmetros: {model.num_parameters():,}\")\n",
       "    \n",
       "    # Teste simples\n",
       "    input_text = \"Olá, como você está?\"\n",
       "    inputs = tokenizer(input_text, return_tensors=\"pt\")\n",
       "    \n",
       "    print(f\"✅ Tokenização funcionando!\")\n",
       "    print(f\"   Input: {input_text}\")\n",
       "    print(f\"   Tokens: {inputs['input_ids'].shape}\")\n",
       "    \n",
       "except Exception as e:\n",
       "    print(f\"❌ Erro no teste final: {e}\")\n",
       "    print(\"💡 Não se preocupe, vamos resolver isso nos próximos módulos!\")"
      ]
     },
     {
      "cell_type": "markdown",
      "metadata": {},
      "source": [
       "## **🎉 Setup Concluído!**\n",
       "\n",
       "### **O que fizemos:**\n",
       "\n",
       "✅ **Verificamos o ambiente** (Colab + GPU)  \n",
       "✅ **Instalamos todas as dependências**  \n",
       "✅ **Configuramos Hugging Face**  \n",
       "✅ **Testamos as importações**  \n",
       "✅ **Criamos estrutura de pastas**  \n",
       "✅ **Fizemos teste final**\n",
       "\n",
       "### **Próximos Passos:**\n",
       "\n",
       "🚀 **Módulo 1**: Entendendo Fine Tuning  \n",
       "🚀 **Módulo 2**: Preparando Dados  \n",
       "🚀 **Módulo 3**: Escolhendo Modelos  \n",
       "🚀 **Módulo 4**: Treinando  \n",
       "🚀 **Módulo 5**: Avaliando  \n",
       "🚀 **Módulo 6**: Deploy\n",
       "\n",
       "---\n",
       "\n",
       "**💡 Dica do Instrutor**: Se algo deu errado, não se preocupe! Fine Tuning é como cozinhar - às vezes a primeira tentativa não sai perfeita, mas com prática você vira um chef! 😄\n",
       "\n",
       "**🚀 Próximo módulo**: Vamos entender o que é Fine Tuning e por que você precisa saber!"
      ]
     }
    ],
    "metadata": {
     "kernelspec": {
      "display_name": "Python 3",
      "language": "python",
      "name": "python3"
     },
     "language_info": {
      "codemirror_mode": {
       "name": "ipython",
       "version": 3
      },
      "file_extension": ".py",
      "mimetype": "text/x-python",
      "name": "python",
      "nbconvert_exporter": "python",
      "pygments_lexer": "ipython3",
      "version": "3.8.5"
     }
    },
    "nbformat": 4,
    "nbformat_minor": 4
   }